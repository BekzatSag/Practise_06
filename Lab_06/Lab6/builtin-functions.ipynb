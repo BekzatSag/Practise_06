{
 "cells": [
  {
   "cell_type": "markdown",
   "metadata": {},
   "source": [
    "## 1"
   ]
  },
  {
   "cell_type": "code",
   "execution_count": 4,
   "metadata": {},
   "outputs": [
    {
     "name": "stdout",
     "output_type": "stream",
     "text": [
      "190080\n"
     ]
    }
   ],
   "source": [
    "listik = [1, 2, 8, 9, 10, 11, 12]\n",
    "counter = 1\n",
    "for i in range(len(listik)):\n",
    "    counter*=listik[i]\n",
    "print(counter)"
   ]
  },
  {
   "cell_type": "markdown",
   "metadata": {},
   "source": [
    "## 2"
   ]
  },
  {
   "cell_type": "code",
   "execution_count": 3,
   "metadata": {},
   "outputs": [
    {
     "name": "stdout",
     "output_type": "stream",
     "text": [
      "The number of upper case is 8 and the number of lower case is 4\n"
     ]
    }
   ],
   "source": [
    "some_str = \"Hello, WORLOOD!\"\n",
    "def funct(some_str):\n",
    "    counter_up = sum(1 for i in some_str if i.isupper())\n",
    "    counter_lo = sum(1 for i in some_str if i.islower())\n",
    "    return counter_up, counter_lo\n",
    "print(f\"The number of upper case is {funct(some_str)[0]} and the number of lower case is {funct(some_str)[1]}\")"
   ]
  },
  {
   "cell_type": "markdown",
   "metadata": {},
   "source": [
    "## 3"
   ]
  },
  {
   "cell_type": "code",
   "execution_count": null,
   "metadata": {},
   "outputs": [
    {
     "name": "stdout",
     "output_type": "stream",
     "text": [
      "It is not palindrome\n"
     ]
    }
   ],
   "source": [
    "some_str = \"abbc\"\n",
    "if some_str==some_str[::-1]: print(\"It is palindrome\")\n",
    "else: print(\"It is not palindrome\")"
   ]
  },
  {
   "cell_type": "markdown",
   "metadata": {},
   "source": [
    "## 4"
   ]
  },
  {
   "cell_type": "code",
   "execution_count": null,
   "metadata": {},
   "outputs": [
    {
     "name": "stdout",
     "output_type": "stream",
     "text": [
      "Square root of 25 after 5000 miliseconds is5.0\n"
     ]
    }
   ],
   "source": [
    "import datetime\n",
    "from math import sqrt\n",
    "ms = int(input(\"Enter the number of miliseconds: \"))\n",
    "number = int(input (\"Enter the number: \"))\n",
    "end_time = datetime.datetime.now() + datetime.timedelta(milliseconds=ms)\n",
    "while(datetime.datetime.now() < end_time):\n",
    "    pass\n",
    "print(f\"Square root of {number} after {ms} miliseconds is {sqrt(number)}\")"
   ]
  },
  {
   "cell_type": "markdown",
   "metadata": {},
   "source": [
    "## 5"
   ]
  },
  {
   "cell_type": "code",
   "execution_count": 10,
   "metadata": {},
   "outputs": [
    {
     "name": "stdout",
     "output_type": "stream",
     "text": [
      "All elements of tuple are true\n"
     ]
    }
   ],
   "source": [
    "t = (1, 2 , 1, True, \"3\", \"99\")\n",
    "counter = True\n",
    "for i in t:\n",
    "    if i==False: \n",
    "        print(\"Not all elements of tuple are true\")\n",
    "        counter = False\n",
    "if counter: print(\"All elements of tuple are true\")"
   ]
  }
 ],
 "metadata": {
  "kernelspec": {
   "display_name": "base",
   "language": "python",
   "name": "python3"
  },
  "language_info": {
   "codemirror_mode": {
    "name": "ipython",
    "version": 3
   },
   "file_extension": ".py",
   "mimetype": "text/x-python",
   "name": "python",
   "nbconvert_exporter": "python",
   "pygments_lexer": "ipython3",
   "version": "3.12.7"
  }
 },
 "nbformat": 4,
 "nbformat_minor": 2
}
