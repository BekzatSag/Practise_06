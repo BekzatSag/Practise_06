{
 "cells": [
  {
   "cell_type": "markdown",
   "metadata": {},
   "source": [
    "## 1"
   ]
  },
  {
   "cell_type": "code",
   "execution_count": 11,
   "metadata": {},
   "outputs": [
    {
     "name": "stdout",
     "output_type": "stream",
     "text": [
      "All directories and files: 2013.csv, 2014.csv, 2015.csv, 2016.csv, 2017.csv, 2018.csv, a.ipynb, annual-enterprise-survey-2018-financial-year-provisional-csv.csv, Files_csv_en.ipynb, new_file.csv, trial.txt, trial01\n",
      "Only files: 2013.csv, 2014.csv, 2015.csv, 2016.csv, 2017.csv, 2018.csv, a.ipynb, annual-enterprise-survey-2018-financial-year-provisional-csv.csv, Files_csv_en.ipynb, new_file.csv, trial.txt\n",
      "All directories: trial01\n"
     ]
    }
   ],
   "source": [
    "import os\n",
    "import re\n",
    "specific_way = \"/Users/User/Desktop/Python/Practise_06/Lecture_07\"\n",
    "dirs_files = os.listdir(specific_way)\n",
    "print(\"All directories and files: {}\".format( \", \".join(dirs_files)))\n",
    "files = [i for i in dirs_files if os.path.isfile(specific_way + \"/\" + i)]\n",
    "print(\"Only files: {}\".format( \", \".join(files)))\n",
    "dirs = [i for i in dirs_files if os.path.isdir((specific_way + \"/\" + i))]\n",
    "print(\"All directories: {}\".format( \", \".join(dirs)))\n"
   ]
  },
  {
   "cell_type": "markdown",
   "metadata": {},
   "source": [
    "## 2"
   ]
  },
  {
   "cell_type": "code",
   "execution_count": null,
   "metadata": {},
   "outputs": [],
   "source": [
    "import os\n",
    "specific_way = \"/Users/User/Desktop/Python/Practise_06/Lecture_07\""
   ]
  }
 ],
 "metadata": {
  "kernelspec": {
   "display_name": "base",
   "language": "python",
   "name": "python3"
  },
  "language_info": {
   "codemirror_mode": {
    "name": "ipython",
    "version": 3
   },
   "file_extension": ".py",
   "mimetype": "text/x-python",
   "name": "python",
   "nbconvert_exporter": "python",
   "pygments_lexer": "ipython3",
   "version": "3.12.7"
  }
 },
 "nbformat": 4,
 "nbformat_minor": 2
}
