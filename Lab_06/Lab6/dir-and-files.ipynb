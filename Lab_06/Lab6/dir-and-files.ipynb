{
 "cells": [
  {
   "cell_type": "markdown",
   "metadata": {},
   "source": [
    "## 1"
   ]
  },
  {
   "cell_type": "code",
   "execution_count": null,
   "metadata": {},
   "outputs": [
    {
     "name": "stdout",
     "output_type": "stream",
     "text": [
      "All directories and files: 2013.csv, 2014.csv, 2015.csv, 2016.csv, 2017.csv, 2018.csv, a.ipynb, annual-enterprise-survey-2018-financial-year-provisional-csv.csv, Files_csv_en.ipynb, new_file.csv, trial.txt, trial01\n",
      "Only files: 2013.csv, 2014.csv, 2015.csv, 2016.csv, 2017.csv, 2018.csv, a.ipynb, annual-enterprise-survey-2018-financial-year-provisional-csv.csv, Files_csv_en.ipynb, new_file.csv, trial.txt\n",
      "All directories: trial01\n"
     ]
    }
   ],
   "source": [
    "import os\n",
    "import re\n",
    "specific_path = \"/Users/User/Desktop/Python/Practise_06/Lecture_07\"\n",
    "dirs_files = os.listdir(specific_path)\n",
    "print(\"All directories and files: {}\".format( \", \".join(dirs_files)))\n",
    "files = [i for i in dirs_files if os.path.isfile(specific_path + \"/\" + i)]\n",
    "print(\"Only files: {}\".format( \", \".join(files)))\n",
    "dirs = [i for i in dirs_files if os.path.isdir((specific_path + \"/\" + i))]\n",
    "print(\"All directories: {}\".format( \", \".join(dirs)))\n"
   ]
  },
  {
   "cell_type": "markdown",
   "metadata": {},
   "source": [
    "## 2"
   ]
  },
  {
   "cell_type": "code",
   "execution_count": null,
   "metadata": {},
   "outputs": [
    {
     "name": "stdout",
     "output_type": "stream",
     "text": [
      "It exists\n",
      "Readable: Yes\n",
      "Writable: Yes\n",
      "Executable: Yes\n"
     ]
    }
   ],
   "source": [
    "import os\n",
    "specific_path = \"/Users/User/Desktop/Python/Practise_06/Lecture_07/a.ipynb\"\n",
    "if os.path.exists(specific_path): \n",
    "    print(\"It exists\")\n",
    "    if os.access(specific_path, os.R_OK):\n",
    "        print(\"Readable: Yes\")\n",
    "    else:\n",
    "        print(\"Readable: No\")\n",
    "    if os.access(specific_path, os.W_OK):\n",
    "         print(\"Writable: Yes\")\n",
    "    else:\n",
    "        print(\"Writable: No\")\n",
    "    if os.access(specific_path, os.X_OK):\n",
    "        print(\"Executable: Yes\")\n",
    "    else: print(\"Executable: No\")\n",
    "else: print(\"It doesn't exist\")"
   ]
  },
  {
   "cell_type": "markdown",
   "metadata": {},
   "source": [
    "## 3"
   ]
  },
  {
   "cell_type": "code",
   "execution_count": 23,
   "metadata": {},
   "outputs": [
    {
     "name": "stdout",
     "output_type": "stream",
     "text": [
      "File: a.ipynb\n",
      "Directory: /Users/User/Desktop/Python/Practise_06/Lecture_07\n"
     ]
    }
   ],
   "source": [
    "import os\n",
    "specific_path = \"/Users/User/Desktop/Python/Practise_06/Lecture_07/a.ipynb\"\n",
    "if os.path.exists(specific_path): \n",
    "    if (os.path.isdir(specific_path)):\n",
    "        print(f\"{specific_path} is directory \")\n",
    "        print(f\"Parent directory is {os.path.dirname(specific_path)}\")\n",
    "    else:\n",
    "        dir_name = os.path.dirname(specific_path)\n",
    "        filename = os.path.basename(specific_path)\n",
    "        print(\"File: {filename}\".format(filename=filename))\n",
    "        print(\"Directory: {dir_name}\".format(dir_name=dir_name))\n",
    "else: print(\"It doesn't exist\")"
   ]
  },
  {
   "cell_type": "markdown",
   "metadata": {},
   "source": [
    "## 4"
   ]
  },
  {
   "cell_type": "code",
   "execution_count": 28,
   "metadata": {},
   "outputs": [
    {
     "name": "stdout",
     "output_type": "stream",
     "text": [
      "11\n"
     ]
    }
   ],
   "source": [
    "txt = \"task4.txt\"\n",
    "with open(txt, \"r\") as file:\n",
    "    count = 0\n",
    "    for i in file.readlines():\n",
    "        count+=1\n",
    "print(count)"
   ]
  },
  {
   "cell_type": "markdown",
   "metadata": {},
   "source": [
    "## 5"
   ]
  },
  {
   "cell_type": "code",
   "execution_count": 43,
   "metadata": {},
   "outputs": [],
   "source": [
    "listik = [1, 2 ,3, \"Hello, world\"]\n",
    "txt = \"task5.txt\"\n",
    "with open(txt, \"w\") as file:\n",
    "        file.write(\", \".join(map(str, listik)))"
   ]
  },
  {
   "cell_type": "markdown",
   "metadata": {},
   "source": [
    "## 6"
   ]
  },
  {
   "cell_type": "code",
   "execution_count": null,
   "metadata": {},
   "outputs": [],
   "source": [
    "for i in range(26):\n",
    "    file = open(f\"{chr(ord(\"A\")+i)}.txt\", 'w')\n",
    "    file.close()"
   ]
  },
  {
   "cell_type": "markdown",
   "metadata": {},
   "source": [
    "## 7"
   ]
  },
  {
   "cell_type": "code",
   "execution_count": 51,
   "metadata": {},
   "outputs": [],
   "source": [
    "first_file = \"txt_1.txt\"\n",
    "second_file = \"txt_2.txt\"\n",
    "file1 = open(first_file, \"r\")\n",
    "with open(second_file, \"w\") as file2, open(first_file, \"r\") as file1:\n",
    "    for i in file1.readlines(): file2.write(i)"
   ]
  },
  {
   "cell_type": "markdown",
   "metadata": {},
   "source": [
    "## 8"
   ]
  },
  {
   "cell_type": "code",
   "execution_count": 54,
   "metadata": {},
   "outputs": [
    {
     "name": "stdout",
     "output_type": "stream",
     "text": [
      "There is no such path\n"
     ]
    }
   ],
   "source": [
    "import os\n",
    "specific_path = \"/Users/User/Desktop/Python/Practise_06/Lab_06/Lab6/remove.txt\"\n",
    "if os.path.exists(specific_path):\n",
    "    if os.access(os.path.dirname(specific_path),  os.W_OK):\n",
    "        if os.access(specific_path, os.W_OK): \n",
    "            os.remove(specific_path)\n",
    "        else: print(\"Yoy don't have access to this file\")\n",
    "    else: print(\"Yoy don't have access to this directory\")\n",
    "else: print(\"There is no such path\")"
   ]
  }
 ],
 "metadata": {
  "kernelspec": {
   "display_name": "base",
   "language": "python",
   "name": "python3"
  },
  "language_info": {
   "codemirror_mode": {
    "name": "ipython",
    "version": 3
   },
   "file_extension": ".py",
   "mimetype": "text/x-python",
   "name": "python",
   "nbconvert_exporter": "python",
   "pygments_lexer": "ipython3",
   "version": "3.12.7"
  }
 },
 "nbformat": 4,
 "nbformat_minor": 2
}
